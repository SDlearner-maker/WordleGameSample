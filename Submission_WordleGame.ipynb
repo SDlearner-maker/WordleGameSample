{
 "cells": [
  {
   "cell_type": "code",
   "execution_count": 1,
   "id": "720dccb2-15b6-4a30-ac0f-8054329cb5ae",
   "metadata": {},
   "outputs": [],
   "source": [
    "import requests\n",
    "import json"
   ]
  },
  {
   "cell_type": "code",
   "execution_count": 12,
   "id": "7a09a342-946b-43f2-b3fb-2ede52fc997c",
   "metadata": {},
   "outputs": [
    {
     "name": "stdin",
     "output_type": "stream",
     "text": [
      "Enter an option:\n",
      "1. Random word guess\n",
      "2. Daily word guess\n",
      "3. Given word guess\n",
      " 1\n",
      "\n",
      "Enter a 5 letter word: thrift\n"
     ]
    },
    {
     "name": "stdout",
     "output_type": "stream",
     "text": [
      "Attempt number:  1\n",
      "Guess must be the same length as the word\n",
      "You have 5 attempts left\n"
     ]
    },
    {
     "name": "stdin",
     "output_type": "stream",
     "text": [
      "\n",
      "Enter a 5 letter word: thift\n"
     ]
    },
    {
     "name": "stdout",
     "output_type": "stream",
     "text": [
      "Attempt number:  2\n",
      "T H _ F T \n",
      " You have 4 attempts left\n"
     ]
    },
    {
     "name": "stdin",
     "output_type": "stream",
     "text": [
      "\n",
      "Enter a 5 letter word: thaft\n"
     ]
    },
    {
     "name": "stdout",
     "output_type": "stream",
     "text": [
      "Attempt number:  3\n",
      "T H _ F T \n",
      " You have 3 attempts left\n"
     ]
    },
    {
     "name": "stdin",
     "output_type": "stream",
     "text": [
      "\n",
      "Enter a 5 letter word: theft\n"
     ]
    },
    {
     "name": "stdout",
     "output_type": "stream",
     "text": [
      "Attempt number:  4\n",
      "T H E F T \n",
      "Correct guess! The word is  theft\n"
     ]
    }
   ],
   "source": [
    "optionInput=input(\"Enter an option:\\n1. Random word guess\\n2. Daily word guess\\n3. Given word guess\\n\")\n",
    "\n",
    "match optionInput:\n",
    "    case '1': \n",
    "        randomWordGuess()\n",
    "    case '2':\n",
    "        dailyWordGuess()\n",
    "    case '3':\n",
    "        givenWordGuess()\n",
    "    case _:\n",
    "        print(\"Re start game with the correct options only\")"
   ]
  },
  {
   "cell_type": "code",
   "execution_count": 6,
   "id": "3527b6ae-3466-4b6c-9e1d-2280f8cb2d37",
   "metadata": {},
   "outputs": [],
   "source": [
    "def guessWordOperation(countCorrect, inputListSlots):\n",
    "    for i in inputListSlots:\n",
    "        if(i['result']=='correct'):\n",
    "            countCorrect=countCorrect+1\n",
    "            print(i['guess'].upper(), end=' ')\n",
    "        elif(i['result']=='present'):\n",
    "            print(i['guess'].lower(), end=' ')\n",
    "        elif(i['result']=='absent'):\n",
    "            print(\"_\", end=' ') \n",
    "    return countCorrect"
   ]
  },
  {
   "cell_type": "code",
   "execution_count": 2,
   "id": "822b46bd-4a65-4ca0-8fe0-b10406c1b87c",
   "metadata": {},
   "outputs": [],
   "source": [
    "#function to run the game\n",
    "#random word guess\n",
    "\n",
    "def randomWordGuess():\n",
    "    \n",
    "    currentAttempt=0\n",
    "    remainingAttempts=6\n",
    "\n",
    "    while(remainingAttempts>0):\n",
    "    \n",
    "        currentAttempt=currentAttempt+1\n",
    "        wordInput= input(\"\\nEnter a 5 letter word:\")\n",
    "        print(\"Attempt number: \",currentAttempt)\n",
    "    \n",
    "        ###Call API for random word guess\n",
    "        size=5\n",
    "        seed=1234\n",
    "        parameters={'guess':'', 'size':'', 'seed':''}\n",
    "        parameters['guess']=wordInput\n",
    "        parameters['size']=size\n",
    "        parameters['seed']=seed\n",
    "        url=\"https://wordle.votee.dev:8000/random\"\n",
    "        \n",
    "        response= requests.get(url, params=parameters)\n",
    "    \n",
    "        ##### handling errors \n",
    "    \n",
    "        #valid word entry\n",
    "        countCorrect=0\n",
    "        \n",
    "        if(response.status_code==200):\n",
    "            inputListSlots=response.json()\n",
    "            countCorrect=guessWordOperation(countCorrect,inputListSlots)\n",
    "            if(countCorrect==size):\n",
    "                print(\"\\nCorrect guess! The word is \", wordInput)\n",
    "                break\n",
    "                \n",
    "            remainingAttempts=remainingAttempts-1\n",
    "            print(\"\\n You have\",remainingAttempts,\"attempts left\")\n",
    "    \n",
    "        #word entry of different length\n",
    "        elif(response.status_code==400):\n",
    "            print(response.text)\n",
    "            remainingAttempts=remainingAttempts-1\n",
    "            print(\"You have\",remainingAttempts,\"attempts left\")\n",
    "            \n",
    "        #oterh unwanted errors   \n",
    "        else:\n",
    "            (\"time to end the game\")"
   ]
  },
  {
   "cell_type": "code",
   "execution_count": 3,
   "id": "1d8d2f92-9e61-4758-9606-267be9a74c9a",
   "metadata": {},
   "outputs": [],
   "source": [
    "#function to run the game\n",
    "#daily word guess\n",
    "\n",
    "def dailyWordGuess():\n",
    "    \n",
    "    currentAttempt=0\n",
    "    remainingAttempts=6\n",
    "\n",
    "    while(remainingAttempts>0):\n",
    "    \n",
    "        currentAttempt=currentAttempt+1\n",
    "        wordInput= input(\"\\nEnter a 5 letter word:\")\n",
    "        print(\"Attempt number: \",currentAttempt)\n",
    "    \n",
    "        ###Call API for random word guess\n",
    "        size=5\n",
    "        parameters={'guess':'', 'size':''}\n",
    "        parameters['guess']=wordInput\n",
    "        parameters['size']=size\n",
    "        url=\"https://wordle.votee.dev:8000/daily\"\n",
    "        \n",
    "        response= requests.get(url, params=parameters)\n",
    "    \n",
    "        ##### handling errors \n",
    "    \n",
    "        #valid word entry\n",
    "        countCorrect=0\n",
    "        \n",
    "        if(response.status_code==200):\n",
    "            inputListSlots=response.json()\n",
    "            countCorrect=guessWordOperation(countCorrect,inputListSlots)\n",
    "            if(countCorrect==size):\n",
    "                print(\"\\nCorrect guess! The word is \", wordInput)\n",
    "                break\n",
    "                \n",
    "            remainingAttempts=remainingAttempts-1\n",
    "            print(\"\\n You have\",remainingAttempts,\"attempts left\")\n",
    "    \n",
    "        #word entry of different length\n",
    "        elif(response.status_code==400):\n",
    "            print(response.text)\n",
    "            remainingAttempts=remainingAttempts-1\n",
    "            print(\"You have\",remainingAttempts,\"attempts left\")\n",
    "            \n",
    "        #oterh unwanted errors   \n",
    "        else:\n",
    "            (\"time to end the game\")"
   ]
  },
  {
   "cell_type": "code",
   "execution_count": 4,
   "id": "19e2c688-a318-49ab-84df-55afc5fc4397",
   "metadata": {},
   "outputs": [],
   "source": [
    "#function to run the game\n",
    "#daily word guess\n",
    "#reference- https://itman.in/en/how-to-add-parameters-to-the-url-string-in-python/\n",
    "\n",
    "def givenWordGuess():\n",
    "\n",
    "    givenWord='help'\n",
    "    size= len(givenWord)\n",
    "    print(\"The given word has length\", size)\n",
    "    currentAttempt=0\n",
    "    remainingAttempts=6\n",
    "\n",
    "    while(remainingAttempts>0):\n",
    "    \n",
    "        currentAttempt=currentAttempt+1        \n",
    "        wordInput= input(\"\\nEnter a word:\")\n",
    "        print(\"Attempt number: \",currentAttempt)\n",
    "    \n",
    "        ###Call API for random word guess\n",
    "\n",
    "        parameters={'guess':'', 'size':''}\n",
    "        parameters['guess']=wordInput\n",
    "        parameters['size']=size\n",
    "\n",
    "        url=\"https://wordle.votee.dev:8000/word/{word}\".format(word=givenWord)\n",
    "        \n",
    "        response= requests.get(url, params=parameters)\n",
    "    \n",
    "        ##### handling errors \n",
    "    \n",
    "        #valid word entry\n",
    "        countCorrect=0\n",
    "        \n",
    "        if(response.status_code==200):\n",
    "            inputListSlots=response.json()\n",
    "            countCorrect=guessWordOperation(countCorrect,inputListSlots)\n",
    "            if(countCorrect==size):\n",
    "                print(\"\\nCorrect guess! The word is \", wordInput)\n",
    "                break\n",
    "                \n",
    "            remainingAttempts=remainingAttempts-1\n",
    "            print(\"\\n You have\",remainingAttempts,\"attempts left\")\n",
    "    \n",
    "        #word entry of different length\n",
    "        elif(response.status_code==400):\n",
    "            print(response.text)\n",
    "            remainingAttempts=remainingAttempts-1\n",
    "            print(\"You have\",remainingAttempts,\"attempts left\")\n",
    "            \n",
    "        #oterh unwanted errors   \n",
    "        else:\n",
    "            (\"time to end the game\")"
   ]
  },
  {
   "cell_type": "code",
   "execution_count": null,
   "id": "f0f32176-1a25-4466-b741-767affd8722b",
   "metadata": {},
   "outputs": [],
   "source": []
  }
 ],
 "metadata": {
  "kernelspec": {
   "display_name": "Python 3 (ipykernel)",
   "language": "python",
   "name": "python3"
  },
  "language_info": {
   "codemirror_mode": {
    "name": "ipython",
    "version": 3
   },
   "file_extension": ".py",
   "mimetype": "text/x-python",
   "name": "python",
   "nbconvert_exporter": "python",
   "pygments_lexer": "ipython3",
   "version": "3.11.5"
  }
 },
 "nbformat": 4,
 "nbformat_minor": 5
}
