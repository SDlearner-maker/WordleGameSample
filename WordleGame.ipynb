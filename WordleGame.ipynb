{
 "cells": [
  {
   "cell_type": "code",
   "execution_count": 27,
   "id": "a4d3b6c0-82b9-4ee3-9e7f-e05187c73458",
   "metadata": {},
   "outputs": [],
   "source": [
    "import requests\n",
    "import json"
   ]
  },
  {
   "cell_type": "code",
   "execution_count": 112,
   "id": "1ca02d91-6381-4e2d-8199-c741efcf2ef4",
   "metadata": {},
   "outputs": [
    {
     "name": "stdin",
     "output_type": "stream",
     "text": [
      "Enter an option:\n",
      "1. Random word guess\n",
      "2. Daily word guess\n",
      "3. Given word guess\n",
      " 3\n"
     ]
    },
    {
     "name": "stdout",
     "output_type": "stream",
     "text": [
      "The given word has length 4\n"
     ]
    },
    {
     "name": "stdin",
     "output_type": "stream",
     "text": [
      "\n",
      "Enter a word: ola\n"
     ]
    },
    {
     "name": "stdout",
     "output_type": "stream",
     "text": [
      "Attempt number:  1\n",
      "Guess must be the same length as the word\n",
      "You have 5 attempts left\n"
     ]
    },
    {
     "name": "stdin",
     "output_type": "stream",
     "text": [
      "\n",
      "Enter a word: uber\n"
     ]
    },
    {
     "name": "stdout",
     "output_type": "stream",
     "text": [
      "Attempt number:  2\n",
      "_ _ e _ \n",
      " You have 4 attempts left\n"
     ]
    },
    {
     "name": "stdin",
     "output_type": "stream",
     "text": [
      "\n",
      "Enter a word: help\n"
     ]
    },
    {
     "name": "stdout",
     "output_type": "stream",
     "text": [
      "Attempt number:  3\n",
      "H E L P \n",
      "Correct guess! The word is  help\n"
     ]
    }
   ],
   "source": [
    "optionInput=input(\"Enter an option:\\n1. Random word guess\\n2. Daily word guess\\n3. Given word guess\\n\")\n",
    "\n",
    "match optionInput:\n",
    "    case '1': \n",
    "        randomWordGuess()\n",
    "    case '2':\n",
    "        dailyWordGuess()\n",
    "    case '3':\n",
    "        givenWordGuess()\n",
    "    case _:\n",
    "        pr"
   ]
  },
  {
   "cell_type": "code",
   "execution_count": 73,
   "id": "facb75e1-6573-4c01-9c47-3a062cb363e3",
   "metadata": {},
   "outputs": [
    {
     "name": "stdin",
     "output_type": "stream",
     "text": [
      "\n",
      "Enter a 5 letter word: kewes\n"
     ]
    },
    {
     "name": "stdout",
     "output_type": "stream",
     "text": [
      "Attempt number:  1\n",
      "K E _ E S Remaining attempts:  5\n"
     ]
    },
    {
     "name": "stdin",
     "output_type": "stream",
     "text": [
      "\n",
      "Enter a 5 letter word: keres\n"
     ]
    },
    {
     "name": "stdout",
     "output_type": "stream",
     "text": [
      "Attempt number:  2\n",
      "K E _ E S Remaining attempts:  4\n"
     ]
    },
    {
     "name": "stdin",
     "output_type": "stream",
     "text": [
      "\n",
      "Enter a 5 letter word: lock\n"
     ]
    },
    {
     "name": "stdout",
     "output_type": "stream",
     "text": [
      "Attempt number:  3\n",
      "Guess must be the same length as the word\n",
      "You have 3 attempts left\n"
     ]
    },
    {
     "name": "stdin",
     "output_type": "stream",
     "text": [
      "\n",
      "Enter a 5 letter word: locck\n"
     ]
    },
    {
     "name": "stdout",
     "output_type": "stream",
     "text": [
      "Attempt number:  4\n",
      "_ _ _ _ k Remaining attempts:  2\n"
     ]
    },
    {
     "name": "stdin",
     "output_type": "stream",
     "text": [
      "\n",
      "Enter a 5 letter word: keqes\n"
     ]
    },
    {
     "name": "stdout",
     "output_type": "stream",
     "text": [
      "Attempt number:  5\n",
      "K E _ E S Remaining attempts:  1\n"
     ]
    },
    {
     "name": "stdin",
     "output_type": "stream",
     "text": [
      "\n",
      "Enter a 5 letter word: kepes\n"
     ]
    },
    {
     "name": "stdout",
     "output_type": "stream",
     "text": [
      "Attempt number:  6\n",
      "K E _ E S Remaining attempts:  0\n"
     ]
    }
   ],
   "source": [
    "dailyWordGuess()"
   ]
  },
  {
   "cell_type": "code",
   "execution_count": 68,
   "id": "283db010-b0d3-4d72-8925-e2704d908868",
   "metadata": {},
   "outputs": [
    {
     "name": "stdin",
     "output_type": "stream",
     "text": [
      "\n",
      "Enter a 5 letter word: pogo\n"
     ]
    },
    {
     "name": "stdout",
     "output_type": "stream",
     "text": [
      "Attempt number:  1\n",
      "Guess must be the same length as the word\n",
      "You have 5 attempts left\n"
     ]
    },
    {
     "name": "stdin",
     "output_type": "stream",
     "text": [
      "\n",
      "Enter a 5 letter word: lolol\n"
     ]
    },
    {
     "name": "stdout",
     "output_type": "stream",
     "text": [
      "Attempt number:  2\n",
      "_ _ _ _ _ Remaining attempts:  4\n"
     ]
    },
    {
     "name": "stdin",
     "output_type": "stream",
     "text": [
      "\n",
      "Enter a 5 letter word: thift\n"
     ]
    },
    {
     "name": "stdout",
     "output_type": "stream",
     "text": [
      "Attempt number:  3\n",
      "T H _ F T Remaining attempts:  3\n"
     ]
    },
    {
     "name": "stdin",
     "output_type": "stream",
     "text": [
      "\n",
      "Enter a 5 letter word: thhft\n"
     ]
    },
    {
     "name": "stdout",
     "output_type": "stream",
     "text": [
      "Attempt number:  4\n",
      "T H h F T Remaining attempts:  2\n"
     ]
    },
    {
     "name": "stdin",
     "output_type": "stream",
     "text": [
      "\n",
      "Enter a 5 letter word: thoft\n"
     ]
    },
    {
     "name": "stdout",
     "output_type": "stream",
     "text": [
      "Attempt number:  5\n",
      "T H _ F T Remaining attempts:  1\n"
     ]
    },
    {
     "name": "stdin",
     "output_type": "stream",
     "text": [
      "\n",
      "Enter a 5 letter word: theft\n"
     ]
    },
    {
     "name": "stdout",
     "output_type": "stream",
     "text": [
      "Attempt number:  6\n",
      "T H E F T \n",
      "Correct guess! The word is  theft\n"
     ]
    }
   ],
   "source": [
    "randomWordGuess()"
   ]
  },
  {
   "cell_type": "code",
   "execution_count": 83,
   "id": "fc476c6e-49ff-4ca4-b869-ec0671443bd3",
   "metadata": {},
   "outputs": [],
   "source": [
    "#function to run the game\n",
    "#random word guess\n",
    "\n",
    "def randomWordGuess():\n",
    "    \n",
    "    currentAttempt=0\n",
    "    remainingAttempts=6\n",
    "\n",
    "    while(remainingAttempts>0):\n",
    "    \n",
    "        currentAttempt=currentAttempt+1\n",
    "        wordInput= input(\"\\nEnter a 5 letter word:\")\n",
    "        print(\"Attempt number: \",currentAttempt)\n",
    "    \n",
    "        ###Call API for random word guess\n",
    "        size=5\n",
    "        seed=1234\n",
    "        parameters={'guess':'', 'size':'', 'seed':''}\n",
    "        parameters['guess']=wordInput\n",
    "        parameters['size']=size\n",
    "        parameters['seed']=seed\n",
    "        url=\"https://wordle.votee.dev:8000/random\"\n",
    "        \n",
    "        response= requests.get(url, params=parameters)\n",
    "    \n",
    "        ##### handling errors \n",
    "    \n",
    "        #valid word entry\n",
    "        countCorrect=0\n",
    "        \n",
    "        if(response.status_code==200):\n",
    "            inputListSlots=response.json()\n",
    "            countCorrect=guessWordOperation(countCorrect,inputListSlots)\n",
    "            if(countCorrect==size):\n",
    "                print(\"\\nCorrect guess! The word is \", wordInput)\n",
    "                break\n",
    "                \n",
    "            remainingAttempts=remainingAttempts-1\n",
    "            print(\"\\n You have\",remainingAttempts,\"attempts left\")\n",
    "    \n",
    "        #word entry of different length\n",
    "        elif(response.status_code==400):\n",
    "            print(response.text)\n",
    "            remainingAttempts=remainingAttempts-1\n",
    "            print(\"You have\",remainingAttempts,\"attempts left\")\n",
    "            \n",
    "        #oterh unwanted errors   \n",
    "        else:\n",
    "            (\"time to end the game\")"
   ]
  },
  {
   "cell_type": "code",
   "execution_count": 79,
   "id": "88d313db-10e8-4128-8512-88cd3b8da767",
   "metadata": {},
   "outputs": [],
   "source": [
    "#function to run the game\n",
    "#daily word guess\n",
    "\n",
    "def dailyWordGuess():\n",
    "    \n",
    "    currentAttempt=0\n",
    "    remainingAttempts=6\n",
    "\n",
    "    while(remainingAttempts>0):\n",
    "    \n",
    "        currentAttempt=currentAttempt+1\n",
    "        wordInput= input(\"\\nEnter a 5 letter word:\")\n",
    "        print(\"Attempt number: \",currentAttempt)\n",
    "    \n",
    "        ###Call API for random word guess\n",
    "        size=5\n",
    "        parameters={'guess':'', 'size':''}\n",
    "        parameters['guess']=wordInput\n",
    "        parameters['size']=size\n",
    "        url=\"https://wordle.votee.dev:8000/daily\"\n",
    "        \n",
    "        response= requests.get(url, params=parameters)\n",
    "    \n",
    "        ##### handling errors \n",
    "    \n",
    "        #valid word entry\n",
    "        countCorrect=0\n",
    "        \n",
    "        if(response.status_code==200):\n",
    "            inputListSlots=response.json()\n",
    "            countCorrect=guessWordOperation(countCorrect,inputListSlots)\n",
    "            if(countCorrect==size):\n",
    "                print(\"\\nCorrect guess! The word is \", wordInput)\n",
    "                break\n",
    "                \n",
    "            remainingAttempts=remainingAttempts-1\n",
    "            print(\"\\n You have\",remainingAttempts,\"attempts left\")\n",
    "    \n",
    "        #word entry of different length\n",
    "        elif(response.status_code==400):\n",
    "            print(response.text)\n",
    "            remainingAttempts=remainingAttempts-1\n",
    "            print(\"You have\",remainingAttempts,\"attempts left\")\n",
    "            \n",
    "        #oterh unwanted errors   \n",
    "        else:\n",
    "            (\"time to end the game\")"
   ]
  },
  {
   "cell_type": "code",
   "execution_count": 107,
   "id": "3e552482-f493-4162-b110-0bf01fb56c5f",
   "metadata": {},
   "outputs": [],
   "source": [
    "#function to run the game\n",
    "#daily word guess\n",
    "#reference- https://itman.in/en/how-to-add-parameters-to-the-url-string-in-python/\n",
    "\n",
    "def givenWordGuess():\n",
    "\n",
    "    givenWord='help'\n",
    "    size= len(givenWord)\n",
    "    print(\"The given word has length\", size)\n",
    "    currentAttempt=0\n",
    "    remainingAttempts=6\n",
    "\n",
    "    while(remainingAttempts>0):\n",
    "    \n",
    "        currentAttempt=currentAttempt+1        \n",
    "        wordInput= input(\"\\nEnter a word:\")\n",
    "        print(\"Attempt number: \",currentAttempt)\n",
    "    \n",
    "        ###Call API for random word guess\n",
    "\n",
    "        parameters={'guess':'', 'size':''}\n",
    "        parameters['guess']=wordInput\n",
    "        parameters['size']=size\n",
    "\n",
    "        url=\"https://wordle.votee.dev:8000/word/{word}\".format(word=givenWord)\n",
    "        \n",
    "        response= requests.get(url, params=parameters)\n",
    "    \n",
    "        ##### handling errors \n",
    "    \n",
    "        #valid word entry\n",
    "        countCorrect=0\n",
    "        \n",
    "        if(response.status_code==200):\n",
    "            inputListSlots=response.json()\n",
    "            countCorrect=guessWordOperation(countCorrect,inputListSlots)\n",
    "            if(countCorrect==size):\n",
    "                print(\"\\nCorrect guess! The word is \", wordInput)\n",
    "                break\n",
    "                \n",
    "            remainingAttempts=remainingAttempts-1\n",
    "            print(\"\\n You have\",remainingAttempts,\"attempts left\")\n",
    "    \n",
    "        #word entry of different length\n",
    "        elif(response.status_code==400):\n",
    "            print(response.text)\n",
    "            remainingAttempts=remainingAttempts-1\n",
    "            print(\"You have\",remainingAttempts,\"attempts left\")\n",
    "            \n",
    "        #oterh unwanted errors   \n",
    "        else:\n",
    "            (\"time to end the game\")"
   ]
  },
  {
   "cell_type": "code",
   "execution_count": 106,
   "id": "e0a88a95-54f0-479c-9215-4835b4ebd04f",
   "metadata": {},
   "outputs": [
    {
     "name": "stdout",
     "output_type": "stream",
     "text": [
      "The given word has length 4"
     ]
    },
    {
     "name": "stdin",
     "output_type": "stream",
     "text": [
      "\n",
      "Enter a word: heloo\n"
     ]
    },
    {
     "name": "stdout",
     "output_type": "stream",
     "text": [
      "Attempt number:  1\n",
      "Guess must be the same length as the word\n",
      "You have 5 attempts left\n"
     ]
    },
    {
     "name": "stdin",
     "output_type": "stream",
     "text": [
      "\n",
      "Enter a word: help\n"
     ]
    },
    {
     "name": "stdout",
     "output_type": "stream",
     "text": [
      "Attempt number:  2\n",
      "H E L P \n",
      "Correct guess! The word is  help\n"
     ]
    }
   ],
   "source": [
    "givenWordGuess()"
   ]
  },
  {
   "cell_type": "code",
   "execution_count": 92,
   "id": "27bebabf-185f-4d0e-a39c-e88ea682889e",
   "metadata": {},
   "outputs": [
    {
     "name": "stdin",
     "output_type": "stream",
     "text": [
      "\n",
      "Enter a 5 letter word: help\n"
     ]
    },
    {
     "name": "stdout",
     "output_type": "stream",
     "text": [
      "Attempt number:  1\n",
      "[{'slot': 0, 'guess': 'h', 'result': 'correct'}, {'slot': 1, 'guess': 'e', 'result': 'correct'}, {'slot': 2, 'guess': 'l', 'result': 'correct'}, {'slot': 3, 'guess': 'p', 'result': 'correct'}]\n"
     ]
    }
   ],
   "source": [
    "wordInput= input(\"\\nEnter a 5 letter word:\")\n",
    "print(\"Attempt number: \",currentAttempt)\n",
    "    \n",
    "###Call API for random word guess\n",
    "givenWord='help'\n",
    "size= len(givenWord)\n",
    "        \n",
    "parameters={'guess':'', 'size':''}\n",
    "parameters['guess']=wordInput\n",
    "parameters['size']=size\n",
    "\n",
    "url=\"https://wordle.votee.dev:8000/word/{word}\".format(word=givenWord)\n",
    "        \n",
    "response= requests.get(url, params=parameters)\n",
    "print(response.json())"
   ]
  },
  {
   "cell_type": "code",
   "execution_count": 64,
   "id": "c9e53769-50c1-4e3f-abd2-c394606ed12a",
   "metadata": {},
   "outputs": [],
   "source": [
    "def guessWordOperation(countCorrect, inputListSlots):\n",
    "    for i in inputListSlots:\n",
    "        if(i['result']=='correct'):\n",
    "            countCorrect=countCorrect+1\n",
    "            print(i['guess'].upper(), end=' ')\n",
    "        elif(i['result']=='present'):\n",
    "            print(i['guess'].lower(), end=' ')\n",
    "        elif(i['result']=='absent'):\n",
    "            print(\"_\", end=' ') \n",
    "    return countCorrect"
   ]
  },
  {
   "cell_type": "code",
   "execution_count": 28,
   "id": "e49a0a75-499a-498c-8135-38df3a359dde",
   "metadata": {},
   "outputs": [
    {
     "name": "stdin",
     "output_type": "stream",
     "text": [
      "Enter a 5 letter word: theft\n"
     ]
    }
   ],
   "source": [
    "wordInput= input(\"Enter a 5 letter word:\")"
   ]
  },
  {
   "cell_type": "code",
   "execution_count": 29,
   "id": "d3ef3adb-b31e-404f-9b37-5953db438a67",
   "metadata": {},
   "outputs": [],
   "source": [
    "#API for random word guess\n",
    "\n",
    "parameters={'guess':'', 'size':'', 'seed':''}\n",
    "parameters['guess']=wordInput\n",
    "parameters['size']=5\n",
    "parameters['seed']=1234\n",
    "url=\"https://wordle.votee.dev:8000/random\"\n",
    "\n",
    "response= requests.get(url, params=parameters)\n",
    "\n",
    "# print(response.text)\n",
    "# print(response.json())\n",
    "# print(response.status_code)"
   ]
  },
  {
   "cell_type": "code",
   "execution_count": 30,
   "id": "bc7fea82-d52c-44d9-b067-591b0fd28d85",
   "metadata": {},
   "outputs": [
    {
     "name": "stdout",
     "output_type": "stream",
     "text": [
      "[{'slot': 0, 'guess': 't', 'result': 'correct'}, {'slot': 1, 'guess': 'h', 'result': 'correct'}, {'slot': 2, 'guess': 'e', 'result': 'correct'}, {'slot': 3, 'guess': 'f', 'result': 'correct'}, {'slot': 4, 'guess': 't', 'result': 'correct'}]\n"
     ]
    }
   ],
   "source": [
    "#handling errors\n",
    "\n",
    "if(response.status_code==200):\n",
    "    print(response.json())\n",
    "elif(response.status_code==400):\n",
    "    print(response.text)\n",
    "else:\n",
    "    (\"time to end the game\")"
   ]
  },
  {
   "cell_type": "code",
   "execution_count": 31,
   "id": "572a89a8-e3b2-41a1-afd7-999aec54db1e",
   "metadata": {},
   "outputs": [
    {
     "data": {
      "text/plain": [
       "list"
      ]
     },
     "execution_count": 31,
     "metadata": {},
     "output_type": "execute_result"
    }
   ],
   "source": [
    "type(response.json())"
   ]
  },
  {
   "cell_type": "code",
   "execution_count": 37,
   "id": "8971fbe5-a63e-4314-861e-befd5a12ab84",
   "metadata": {},
   "outputs": [
    {
     "name": "stdout",
     "output_type": "stream",
     "text": [
      "correct\n",
      "correct\n",
      "correct\n",
      "correct\n",
      "correct\n"
     ]
    }
   ],
   "source": [
    "# On success, the response is list of dictionary objects\n",
    "\n",
    "for i in response.json():\n",
    "    print(i['result'])"
   ]
  },
  {
   "cell_type": "code",
   "execution_count": 44,
   "id": "05352b79-6325-44a7-976a-6385e86411bd",
   "metadata": {},
   "outputs": [
    {
     "name": "stdin",
     "output_type": "stream",
     "text": [
      "\n",
      "Enter a 5 letter word: lol\n"
     ]
    },
    {
     "name": "stdout",
     "output_type": "stream",
     "text": [
      "Attempt number:  1\n",
      "Guess must be the same length as the word\n",
      "You have 5 attempts left\n"
     ]
    },
    {
     "name": "stdin",
     "output_type": "stream",
     "text": [
      "\n",
      "Enter a 5 letter word: treat\n"
     ]
    },
    {
     "name": "stdout",
     "output_type": "stream",
     "text": [
      "Attempt number:  2\n",
      "T _ E _ T Remaining attempts:  4\n"
     ]
    },
    {
     "name": "stdin",
     "output_type": "stream",
     "text": [
      "\n",
      "Enter a 5 letter word: treah\n"
     ]
    },
    {
     "name": "stdout",
     "output_type": "stream",
     "text": [
      "Attempt number:  3\n",
      "T _ E _ h Remaining attempts:  3\n"
     ]
    },
    {
     "name": "stdin",
     "output_type": "stream",
     "text": [
      "\n",
      "Enter a 5 letter word: theft\n"
     ]
    },
    {
     "name": "stdout",
     "output_type": "stream",
     "text": [
      "Attempt number:  4\n",
      "T H E F T Correct guess! The word is  theft\n"
     ]
    }
   ],
   "source": [
    "#loop to run the game\n",
    "\n",
    "currentAttempt=0\n",
    "remainingAttempts=6\n",
    "\n",
    "while(remainingAttempts>0):\n",
    "\n",
    "    currentAttempt=currentAttempt+1\n",
    "    wordInput= input(\"\\nEnter a 5 letter word:\")\n",
    "    print(\"Attempt number: \",currentAttempt)\n",
    "\n",
    "    ###Call API for random word guess\n",
    "    size=5\n",
    "    seed=1234\n",
    "    parameters={'guess':'', 'size':'', 'seed':''}\n",
    "    parameters['guess']=wordInput\n",
    "    parameters['size']=size\n",
    "    parameters['seed']=seed\n",
    "    url=\"https://wordle.votee.dev:8000/random\"\n",
    "    \n",
    "    response= requests.get(url, params=parameters)\n",
    "\n",
    "    ##### handling errors \n",
    "\n",
    "    #valid word entry\n",
    "    countCorrect=0\n",
    "    if(response.status_code==200):\n",
    "        # print(response.json())\n",
    "        for i in response.json():\n",
    "            if(i['result']=='correct'):\n",
    "                countCorrect=countCorrect+1\n",
    "                print(i['guess'].upper(), end=' ')\n",
    "            elif(i['result']=='present'):\n",
    "                print(i['guess'].lower(), end=' ')\n",
    "            elif(i['result']=='absent'):\n",
    "                print(\"_\", end=' ')\n",
    "\n",
    "        #winning case\n",
    "        if(countCorrect==size):\n",
    "            print(\"Correct guess! The word is \", wordInput)\n",
    "            break\n",
    "            \n",
    "        remainingAttempts=remainingAttempts-1\n",
    "        print(\"Remaining attempts: \", remainingAttempts)\n",
    "\n",
    "    #word entry of different length\n",
    "    elif(response.status_code==400):\n",
    "        print(response.text)\n",
    "        remainingAttempts=remainingAttempts-1\n",
    "        print(\"You have\",remainingAttempts,\"attempts left\")\n",
    "        \n",
    "    #oterh unwanted errors   \n",
    "    else:\n",
    "        (\"time to end the game\")"
   ]
  },
  {
   "cell_type": "code",
   "execution_count": 56,
   "id": "e7b3545e-be50-49a9-b1d4-3f45c5fb6e76",
   "metadata": {},
   "outputs": [
    {
     "name": "stdin",
     "output_type": "stream",
     "text": [
      "\n",
      "Enter a 5 letter word: programming\n"
     ]
    },
    {
     "name": "stdout",
     "output_type": "stream",
     "text": [
      "Attempt number:  1\n",
      "Guess must be the same length as the word\n",
      "You have 5 attempts left\n"
     ]
    },
    {
     "name": "stdin",
     "output_type": "stream",
     "text": [
      "\n",
      "Enter a 5 letter word: theft\n"
     ]
    },
    {
     "name": "stdout",
     "output_type": "stream",
     "text": [
      "Attempt number:  2\n",
      "T H E F T \n",
      "Correct guess! The word is  theft\n"
     ]
    }
   ],
   "source": [
    "#loop to run the game\n",
    "\n",
    "currentAttempt=0\n",
    "remainingAttempts=6\n",
    "\n",
    "while(remainingAttempts>0):\n",
    "\n",
    "    currentAttempt=currentAttempt+1\n",
    "    wordInput= input(\"\\nEnter a 5 letter word:\")\n",
    "    print(\"Attempt number: \",currentAttempt)\n",
    "\n",
    "    ###Call API for random word guess\n",
    "    size=5\n",
    "    seed=1234\n",
    "    parameters={'guess':'', 'size':'', 'seed':''}\n",
    "    parameters['guess']=wordInput\n",
    "    parameters['size']=size\n",
    "    parameters['seed']=seed\n",
    "    url=\"https://wordle.votee.dev:8000/random\"\n",
    "    \n",
    "    response= requests.get(url, params=parameters)\n",
    "\n",
    "    ##### handling errors \n",
    "\n",
    "    #valid word entry\n",
    "    countCorrect=0\n",
    "    if(response.status_code==200):\n",
    "    #     # print(response.json())\n",
    "    #     for i in response.json():\n",
    "    #         if(i['result']=='correct'):\n",
    "    #             countCorrect=countCorrect+1\n",
    "    #             print(i['guess'].upper(), end=' ')\n",
    "    #         elif(i['result']=='present'):\n",
    "    #             print(i['guess'].lower(), end=' ')\n",
    "    #         elif(i['result']=='absent'):\n",
    "    #             print(\"_\", end=' ')\n",
    "\n",
    "        #winning case\n",
    "        countCorrect=guessWordOperation(countCorrect)\n",
    "\n",
    "        if(countCorrect==size):\n",
    "            print(\"\\nCorrect guess! The word is \", wordInput)\n",
    "            break\n",
    "            \n",
    "        remainingAttempts=remainingAttempts-1\n",
    "        print(\"Remaining attempts: \", remainingAttempts)\n",
    "\n",
    "    #word entry of different length\n",
    "    elif(response.status_code==400):\n",
    "        print(response.text)\n",
    "        remainingAttempts=remainingAttempts-1\n",
    "        print(\"You have\",remainingAttempts,\"attempts left\")\n",
    "        \n",
    "    #oterh unwanted errors   \n",
    "    else:\n",
    "        (\"time to end the game\")"
   ]
  },
  {
   "cell_type": "code",
   "execution_count": null,
   "id": "823aec1c-03ec-4afd-a95d-09b0c42cd794",
   "metadata": {},
   "outputs": [],
   "source": []
  }
 ],
 "metadata": {
  "kernelspec": {
   "display_name": "Python 3 (ipykernel)",
   "language": "python",
   "name": "python3"
  },
  "language_info": {
   "codemirror_mode": {
    "name": "ipython",
    "version": 3
   },
   "file_extension": ".py",
   "mimetype": "text/x-python",
   "name": "python",
   "nbconvert_exporter": "python",
   "pygments_lexer": "ipython3",
   "version": "3.11.5"
  }
 },
 "nbformat": 4,
 "nbformat_minor": 5
}
